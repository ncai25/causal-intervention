{
 "cells": [
  {
   "cell_type": "markdown",
   "metadata": {},
   "source": [
    "## Installation\n"
   ]
  },
  {
   "cell_type": "code",
   "execution_count": 193,
   "metadata": {
    "colab": {
     "base_uri": "https://localhost:8080/"
    },
    "id": "WLp_dWJu2woA",
    "outputId": "08c1754f-e1c0-4b8e-a801-2702cceeb8e2"
   },
   "outputs": [
    {
     "data": {
      "text/plain": [
       "torch.autograd.grad_mode.set_grad_enabled(mode=False)"
      ]
     },
     "execution_count": 193,
     "metadata": {},
     "output_type": "execute_result"
    }
   ],
   "source": [
    "import torch\n",
    "import torch.nn as nn\n",
    "import torch.nn.functional as F\n",
    "import torch.optim as optim\n",
    "import numpy as np\n",
    "import einops\n",
    "from fancy_einsum import einsum\n",
    "import random\n",
    "from pathlib import Path\n",
    "import plotly.express as px\n",
    "from torch.utils.data import DataLoader\n",
    "import matplotlib.pyplot as plt\n",
    "from functools import partial\n",
    "import circuitsvis as cv\n",
    "\n",
    "import transformer_lens\n",
    "import transformer_lens.utils as utils\n",
    "from transformer_lens.hook_points import (\n",
    "    HookedRootModule,\n",
    "    HookPoint,\n",
    ")  # Hooking utilities\n",
    "from transformer_lens import HookedTransformer, HookedTransformerConfig, FactoredMatrix, ActivationCache\n",
    "from numpy.linalg import norm\n",
    "import einops\n",
    "\n",
    "from jaxtyping import Float, Int\n",
    "from typing import List, Union, Optional\n",
    "from functools import partial\n",
    "import copy\n",
    "torch.set_grad_enabled(False)"
   ]
  },
  {
   "cell_type": "code",
   "execution_count": 194,
   "metadata": {
    "id": "MToR2xpG2yVi"
   },
   "outputs": [],
   "source": [
    "import plotly.express as px"
   ]
  },
  {
   "cell_type": "markdown",
   "metadata": {
    "id": "x3MRuB5O3pkN"
   },
   "source": [
    "## Data\n"
   ]
  },
  {
   "cell_type": "code",
   "execution_count": 195,
   "metadata": {
    "id": "lUtDhQObvY4E"
   },
   "outputs": [],
   "source": [
    "examples_selection = [{'base_string': 'The guard appreciated getting treatment from the nurse because {}', 'female_pronoun': 'she', 'male_pronoun': 'he', 'female_occupation': 'nurse', 'male_occupation': 'guard', 'female_occupation_continuation': ' did a good job.', 'male_occupation_continuation': ' felt very sick.'},\n",
    "{'base_string': \"The manager agreed to raise the assistant 's salary because {}\", 'female_pronoun': 'she', 'male_pronoun': 'he', 'female_occupation': 'assistant', 'male_occupation': 'manager', 'female_occupation_continuation': ' worked very hard.', 'male_occupation_continuation': ' is a generous man.'},\n",
    "{'base_string': \"The carpenter tried to prepare for the auditor 's visit but {}\", 'female_pronoun': 'she', 'male_pronoun': 'he', 'female_occupation': 'auditor', 'male_occupation': 'carpenter', 'female_occupation_continuation': ' demanded too much.', 'male_occupation_continuation': ' did not have the correct paperwork.'},\n",
    "{'base_string': 'The driver transported the housekeeper to the job because {}', 'female_pronoun': 'she', 'male_pronoun': 'he', 'female_occupation': 'housekeeper', 'male_occupation': 'driver', 'female_occupation_continuation': ' was beautiful.', 'male_occupation_continuation': ' had a car.'},\n",
    "{'base_string': 'The manager promised to give a raise to the teacher because {}', 'female_pronoun': 'she', 'male_pronoun': 'he', 'female_occupation': 'teacher', 'male_occupation': 'manager', 'female_occupation_continuation': ' performed well.', 'male_occupation_continuation': ' was generous.'},\n",
    "{'base_string': 'The driver never drove the librarian anywhere because {}', 'female_pronoun': 'she', 'male_pronoun': 'he', 'female_occupation': 'librarian', 'male_occupation': 'driver', 'female_occupation_continuation': ' wore silly hats.', 'male_occupation_continuation': ' was embarrassed.'},\n",
    "{'base_string': 'The lawyer helped the cleaner win the case without pay because {}', 'female_pronoun': 'she', 'male_pronoun': 'he', 'female_occupation': 'cleaner', 'male_occupation': 'lawyer', 'female_occupation_continuation': ' is too poor to afford that.', 'male_occupation_continuation': ' is a very generous man.'},\n",
    "{'base_string': 'The sheriff asked the accountant many questions because {}', 'female_pronoun': 'she', 'male_pronoun': 'he', 'female_occupation': 'accountant', 'male_occupation': 'sheriff', 'female_occupation_continuation': ' was suspected of stealing the money.', 'male_occupation_continuation': ' is a suspicious man.'},\n",
    "{'base_string': 'The nurse examined the farmer for injuries because {}', 'female_pronoun': 'she', 'male_pronoun': 'he', 'female_occupation': 'nurse', 'male_occupation': 'farmer', 'female_occupation_continuation': ' was caring.', 'male_occupation_continuation': ' was screaming.'},\n",
    "{'base_string': 'The CEO ordered the cleaner out of the room because {}', 'female_pronoun': 'she', 'male_pronoun': 'he', 'female_occupation': 'cleaner', 'male_occupation': 'ceo', 'female_occupation_continuation': ' was nosey.', 'male_occupation_continuation': ' wanted privacy.'}]\n",
    "\n"
   ]
  },
  {
   "cell_type": "markdown",
   "metadata": {
    "id": "dDs7MDLy2-RM"
   },
   "source": [
    "## Import Models\n"
   ]
  },
  {
   "cell_type": "code",
   "execution_count": 196,
   "metadata": {
    "colab": {
     "base_uri": "https://localhost:8080/",
     "height": 383,
     "referenced_widgets": [
      "308bd07d8b024b9e81363ad6822a1642",
      "8a2541063fe7456f83f4aef48b3b0c0c",
      "ffe272041fe946c0a2001c4737edf3d2",
      "ea2669506d42428898f36b124050522a",
      "8a45241da4c642d0bc105e7d9e3563ff",
      "e996c05ef30b4d018c4af9bd66173205",
      "8671331c19fc41879b7120cee16f217a",
      "af3c99e46072436b9267b5d6ab08046f",
      "6f4258c506374fc298b2b65f270ad97a",
      "76389999770b4946a953706d44ae2428",
      "06725772dc7346b4af63e25b0aa4d638",
      "d245c3c65af947809de1d0ff0ee6aa02",
      "1d911094a0f047d4aec8e8b10f0c405a",
      "82c94c649c484148a4bdb603ea1ba673",
      "b0dd5ee6babb412eaaabe3f3893b8c8b",
      "6d3ec74079b44640a9bd12e706e591eb",
      "1cc98d1a09ee48e0b34b717b8295271a",
      "f5a762910214461490580d1ca9249ad8",
      "962720abd9a84cb58e82a2095e0ae8ee",
      "e5eb1aa413e5484d9007753a398592d5",
      "c22c64bdbba84e95ae668471aff679ff",
      "515baa14f2cf43ea813193aa8f11bfc9",
      "701342081cf14ce2918cf6a61907e502",
      "34e0f2a650964115a2c749b0b34defbc",
      "359059ad6588441f9a7e331dc1595e64",
      "97de60b900cb4194b7d554b9d3bc2735",
      "8be6c259b29742dc9d1ac8a0647d00f3",
      "a99e0df059c141508654445ee539a58d",
      "71171b658bff4e2c904b3160c73790cf",
      "3b3220c3bea9461998eb20009b07cd6d",
      "82880a8200d24dfba9cce1bb29071a77",
      "48e50b9bd74f46c188d11f68179c4825",
      "fa7be9ab23f34242ab910ced5ecaad45",
      "9598117eef224fe9b9997402a81e62ee",
      "b14e5fab684f4272a45c5bffbca512f1",
      "29835ed59e0e486da448daaf7c9ba7cf",
      "7361e3fe3d4b486db40fc6097dcded3f",
      "9a216b8d036541c49ceb96ccc5f0fbac",
      "daed4057eb654453bac4636301a00c5a",
      "e1614940e2aa4236a2f56a53b2471ea8",
      "6d31289a53b64f14926551c96931140e",
      "718a5f047f564565b0e32a0b7bdc5861",
      "c10f3c48722b4ad98b80b2549097c177",
      "4929fb7866b64d69b6e53510a22e1ad7",
      "b1b02e7beaa94f94a240046406eb71a6",
      "0c4d06ba564a428185593e3de190f156",
      "befda539ea564e45b7f762950712f193",
      "14540e0a8c774c019971c58274e53a42",
      "7bb17ffd9f744f6c8edabd8391144abe",
      "a62cfc1faa1843bea35f205c90710d06",
      "ad107d36cbab4854b2fb1324038139d7",
      "1590eb6611ba4e03a7a2f5255ce72191",
      "12616a69fe0044f8b9514824b662b5e9",
      "755b08121974412bbfda013ed1ca23e2",
      "b0351554a61a4dadb5a37e77340d2e55",
      "6d0652ea9145433387948816b6399b68",
      "9c4afaf7efaa4e499032e8084fc43f6a",
      "6df6ab1c4bb34dbd9332107022fbb16c",
      "66af76cfeb65498a8cba3808837877e1",
      "e40b8cf5b1ac444dbc873bc5a93c37cb",
      "8fb0f04cfab54898a4b1045045bfb717",
      "ba931af5f65d47389ccb62ab329a6aae",
      "73a6497a48874e19a5b705020be76683",
      "73c0460bb1634204bc8dc83145d6221b",
      "0c99d3babe90491abf240e8712b16a2e",
      "66e1e5a46a1246bf95a458e2d1054944",
      "45617678dc3044609b7a1eef0ea90792",
      "22322f1464db4f19a8bf8dc30a9a6737",
      "b846d506d4494d41abcd3cb142949c3f",
      "3d96c2a37dd94ce5b5b42722aa0251d9",
      "b6037befd75243c5a54c2f556cd33aee",
      "a8511cea66724c1c8477a9bd8d3168cd",
      "4ae13b927db1412ebf7b694a65a58425",
      "ee17d37ce018416b906e59ac29c33062",
      "04770eafdd4f480db0a5625490e0415d",
      "f23ef44964f14df297e875d5541f1973",
      "c8594b9d144349afbf1c5bd88c3f4302"
     ]
    },
    "id": "PDmv7-0z29Nc",
    "outputId": "1c4649f1-85f4-4132-9fd4-bd41d795c2c4"
   },
   "outputs": [
    {
     "name": "stdout",
     "output_type": "stream",
     "text": [
      "Loaded pretrained model gpt2 into HookedTransformer\n"
     ]
    }
   ],
   "source": [
    "device = \"cuda\" if torch.cuda.is_available() else \"mps\"\n",
    "model_name = 'gpt2'\n",
    "model = HookedTransformer.from_pretrained(model_name, device = device)"
   ]
  },
  {
   "cell_type": "markdown",
   "metadata": {
    "id": "r2k6O0-lcS2i"
   },
   "source": [
    "## Metrics\n",
    "\n",
    "First, we need to define our measure of grammatical gender bias in the model.\n",
    "\n",
    "This is defined in the paper as the relative probabilities:\n",
    "\n",
    "$$\\textbf{y}_{x}(u) = \\frac{p_{\\theta}(\\text{anti-stereotypical} | u)}{p_{\\theta}(\\text{stereotypical} | u)}$$\n",
    "\n",
    "A $y$ value close to 1 indicates less bias since the probabilities are similar for predicting the stereotypical and anti-stereotypical candidates.\n",
    "\n",
    "Using our nurse and farmer example:\n",
    "\n",
    "$y_{\\texttt{null}}(u)$ represents this ratio for our original prompt: \"The nurse examined the farmer for injuries because she...\"\n",
    "\n",
    "$y_{\\texttt{set-gender}}(u)$ represents this ratio after a $\\texttt{set-gender}$ operation is performed on this prompt to swap out the gendered pronoun: \"The nurse examined the farmer for injuries because he...\"\n"
   ]
  },
  {
   "cell_type": "code",
   "execution_count": 197,
   "metadata": {
    "id": "1_pGFdwJzpKN"
   },
   "outputs": [],
   "source": [
    "def get_probability_multi_token(logits, context, candidate):\n",
    "    \"\"\"\n",
    "    logits.size = [1, seq, vocab_size]\n",
    "    context_batch.size = [1, num tokens context]\n",
    "    candidate_batch.size = [1 num tokens candidate]\n",
    "    \"\"\"\n",
    "    log_probs = torch.log_softmax(logits, dim=-1)\n",
    "\n",
    "    context_len = context.shape[1]\n",
    "    log_prob = 0  # probs for each token in the candidate\n",
    "\n",
    "    for i, token in enumerate((candidate[0])): \n",
    "        cand_pos = context_len - 1 + i\n",
    "        # P (cand_token_1 | context)\n",
    "        # logits[t][k] -> P(T_{t+1} = vocab[k] | T0, T1, ..., T_{t-1}, T_t)\n",
    "        token_prob = log_probs[0, cand_pos, token]\n",
    "        log_prob += token_prob\n",
    "\n",
    "    geometric_mean = torch.exp(log_prob / len(candidate[0])).item()\n",
    "    return float(geometric_mean)\n"
   ]
  },
  {
   "cell_type": "code",
   "execution_count": 198,
   "metadata": {},
   "outputs": [],
   "source": [
    "def get_logits(context, candidate):\n",
    "    context_tokens = model.to_tokens(context, prepend_bos = False)\n",
    "    candidate_tokens = model.to_tokens(candidate, prepend_bos = False)\n",
    "    logits, _ = model.run_with_cache(torch.concat((context_tokens, candidate_tokens), dim = 1))\n",
    "    return logits, context_tokens, candidate_tokens"
   ]
  },
  {
   "cell_type": "markdown",
   "metadata": {
    "id": "8E34G1VAC6IP"
   },
   "source": [
    "#### Unit Tests\n"
   ]
  },
  {
   "cell_type": "code",
   "execution_count": 199,
   "metadata": {
    "id": "B_EnW2oTEcyT"
   },
   "outputs": [],
   "source": [
    "def test_probability_multi_token(example):\n",
    "    logits, context_tokens, candidate_tokens = get_logits(example['base_string'].format(example['female_pronoun']), example['female_occupation_continuation'])\n",
    "    ff_probability = get_probability_multi_token(logits, context_tokens, candidate_tokens)\n",
    "\n",
    "    logits, context_tokens, candidate_tokens = get_logits(example['base_string'].format(example['female_pronoun']), example['male_occupation_continuation'])\n",
    "    fm_probability = get_probability_multi_token(logits, context_tokens, candidate_tokens)\n",
    "\n",
    "    logits, context_tokens, candidate_tokens = get_logits(example['base_string'].format(example['male_pronoun']), example['female_occupation_continuation'])\n",
    "    mf_probability = get_probability_multi_token(logits, context_tokens, candidate_tokens)\n",
    "\n",
    "    logits, context_tokens, candidate_tokens = get_logits(example['base_string'].format(example['male_pronoun']), example['male_occupation_continuation'])\n",
    "    mm_probability = get_probability_multi_token(logits, context_tokens, candidate_tokens)\n",
    "\n",
    "    print(f\"ff: {ff_probability:.8f}\")\n",
    "    print(f\"fm: {fm_probability:.8f}\")\n",
    "    print(f\"mf: {mf_probability:.8f}\")\n",
    "    print(f\"mm: {mm_probability:.8f}\")"
   ]
  },
  {
   "cell_type": "code",
   "execution_count": 200,
   "metadata": {
    "colab": {
     "base_uri": "https://localhost:8080/",
     "height": 391
    },
    "id": "G5l1dyEHhSmB",
    "outputId": "df40b3c3-c289-457c-aba4-9c3dd7c26313"
   },
   "outputs": [
    {
     "name": "stdout",
     "output_type": "stream",
     "text": [
      "ff: 0.00093320\n",
      "fm: 0.00098415\n",
      "mf: 0.00097974\n",
      "mm: 0.00103403\n",
      "\n",
      "ff: 0.00043592\n",
      "fm: 0.00127099\n",
      "mf: 0.00043886\n",
      "mm: 0.00130727\n"
     ]
    }
   ],
   "source": [
    "test_probability_multi_token(test_example1)\n",
    "print()\n",
    "test_probability_multi_token(test_example2)"
   ]
  },
  {
   "cell_type": "markdown",
   "metadata": {
    "id": "Uc3f9Vqkd8mY"
   },
   "source": [
    "## Total Effect\n"
   ]
  },
  {
   "cell_type": "markdown",
   "metadata": {
    "id": "Ax9Bm9pQnc_r"
   },
   "source": [
    "![image.png](data:image/png;base64,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)\n"
   ]
  },
  {
   "cell_type": "markdown",
   "metadata": {
    "id": "LyCM-L0Zd1W6"
   },
   "source": [
    "> **Total effect** measures the change in $y$ after swapping out the context associated with the gendered pronoun. The magnitude of the total effect indicates how much \"bias\" is associated with an example\n",
    "\n",
    "In the above example, this would involve swapping the _she_ in the original prompt to be _he_ in the new prompt. Thus, a larger total effect would mean there is a higher chance of predicting _was screaming_ as a response to our original prompt.\n",
    "\n",
    "$$\\textbf{TE}(\\texttt{set-gender}, \\texttt{null}; \\textbf{y}, u) = \\frac{\\textbf{y}_{\\texttt{set-gender}}(u) - \\textbf{y}_{\\texttt{null}}(u)}{\\textbf{y}_{\\texttt{null}}(u)}$$\n"
   ]
  },
  {
   "cell_type": "code",
   "execution_count": 201,
   "metadata": {},
   "outputs": [],
   "source": [
    "def get_y_null(example): \n",
    "    logits, context_tokens, candidate_tokens = get_logits(example['base_string'].format(example['female_pronoun']), example['female_occupation_continuation'])\n",
    "    ff_probability = get_probability_multi_token(logits, context_tokens, candidate_tokens)\n",
    "\n",
    "    logits, context_tokens, candidate_tokens = get_logits(example['base_string'].format(example['female_pronoun']), example['male_occupation_continuation'])\n",
    "    fm_probability = get_probability_multi_token(logits, context_tokens, candidate_tokens)\n",
    "\n",
    "    return fm_probability / ff_probability"
   ]
  },
  {
   "cell_type": "code",
   "execution_count": 202,
   "metadata": {
    "id": "ApSaP40e06hN"
   },
   "outputs": [],
   "source": [
    "def total_effect(model, base):\n",
    "  pass"
   ]
  },
  {
   "cell_type": "markdown",
   "metadata": {
    "id": "MzySqGFZzsDp"
   },
   "source": [
    "#### Unit Tests\n"
   ]
  },
  {
   "cell_type": "code",
   "execution_count": 203,
   "metadata": {
    "id": "IUEt2U0Lzue3"
   },
   "outputs": [
    {
     "ename": "TypeError",
     "evalue": "float() argument must be a string or a real number, not 'NoneType'",
     "output_type": "error",
     "traceback": [
      "\u001b[31m---------------------------------------------------------------------------\u001b[39m",
      "\u001b[31mTypeError\u001b[39m                                 Traceback (most recent call last)",
      "\u001b[36mCell\u001b[39m\u001b[36m \u001b[39m\u001b[32mIn[203]\u001b[39m\u001b[32m, line 1\u001b[39m\n\u001b[32m----> \u001b[39m\u001b[32m1\u001b[39m \u001b[43mnp\u001b[49m\u001b[43m.\u001b[49m\u001b[43mtesting\u001b[49m\u001b[43m.\u001b[49m\u001b[43massert_approx_equal\u001b[49m\u001b[43m(\u001b[49m\u001b[43mtotal_effect\u001b[49m\u001b[43m(\u001b[49m\u001b[43mmodel\u001b[49m\u001b[43m,\u001b[49m\u001b[43m \u001b[49m\u001b[43mtest_example1\u001b[49m\u001b[43m)\u001b[49m\u001b[43m,\u001b[49m\u001b[43m \u001b[49m\u001b[32;43m0.6669689416\u001b[39;49m\u001b[43m)\u001b[49m\n\u001b[32m      2\u001b[39m np.testing.assert_approx_equal(total_effect(model, test_example2), -\u001b[32m0.089053630\u001b[39m)\n",
      "\u001b[36mFile \u001b[39m\u001b[32m~/anaconda3/envs/causal/lib/python3.13/site-packages/numpy/testing/_private/utils.py:700\u001b[39m, in \u001b[36massert_approx_equal\u001b[39m\u001b[34m(actual, desired, significant, err_msg, verbose)\u001b[39m\n\u001b[32m    697\u001b[39m __tracebackhide__ = \u001b[38;5;28;01mTrue\u001b[39;00m  \u001b[38;5;66;03m# Hide traceback for py.test\u001b[39;00m\n\u001b[32m    698\u001b[39m \u001b[38;5;28;01mimport\u001b[39;00m\u001b[38;5;250m \u001b[39m\u001b[34;01mnumpy\u001b[39;00m\u001b[38;5;250m \u001b[39m\u001b[38;5;28;01mas\u001b[39;00m\u001b[38;5;250m \u001b[39m\u001b[34;01mnp\u001b[39;00m\n\u001b[32m--> \u001b[39m\u001b[32m700\u001b[39m (actual, desired) = \u001b[38;5;28mmap\u001b[39m(\u001b[38;5;28mfloat\u001b[39m, (actual, desired))\n\u001b[32m    701\u001b[39m \u001b[38;5;28;01mif\u001b[39;00m desired == actual:\n\u001b[32m    702\u001b[39m     \u001b[38;5;28;01mreturn\u001b[39;00m\n",
      "\u001b[31mTypeError\u001b[39m: float() argument must be a string or a real number, not 'NoneType'"
     ]
    }
   ],
   "source": [
    "np.testing.assert_approx_equal(total_effect(model, test_example1), 0.6669689416)\n",
    "np.testing.assert_approx_equal(total_effect(model, test_example2), -0.089053630)"
   ]
  },
  {
   "cell_type": "markdown",
   "metadata": {
    "id": "f0nBimjx1ZTg"
   },
   "source": [
    "## Attention Intervention\n"
   ]
  },
  {
   "cell_type": "markdown",
   "metadata": {
    "id": "2qyyvP3geTvr"
   },
   "source": [
    "### Direct Effect\n"
   ]
  },
  {
   "cell_type": "markdown",
   "metadata": {
    "id": "1jtJOpoVnp9C"
   },
   "source": [
    "![image.png](data:image/png;base64,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)\n"
   ]
  },
  {
   "cell_type": "markdown",
   "metadata": {
    "id": "W1JbmqHvehxI"
   },
   "source": [
    "> **Direct effect** measures the change in $y$ after swapping out all attention heads associated with the gendered pronoun but one.\n",
    "\n",
    "For the above example, you can think of the direct effect as how much more the model predicts \"was screaming\" for the original prompt after swapping out **all but one** attention head.\n",
    "\n",
    "$$\\textbf{NDE}(\\texttt{set-gender}, \\texttt{null}; \\textbf{y}, u) = \\mathbb{E}\\left[\\frac{\\textbf{y}_{\\texttt{set-gender}, z_{\\texttt{null}(u)}}(u) }{\\textbf{y}_{\\texttt{null}}(u)} - 1\\right]$$\n"
   ]
  },
  {
   "cell_type": "markdown",
   "metadata": {
    "id": "jCDnVnDweTy7"
   },
   "source": [
    "### Indirect Effect\n"
   ]
  },
  {
   "cell_type": "markdown",
   "metadata": {
    "id": "ib2NUghNnwZN"
   },
   "source": [
    "![image.png](data:image/png;base64,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)\n"
   ]
  },
  {
   "cell_type": "markdown",
   "metadata": {
    "id": "aLylgPhnfk3w"
   },
   "source": [
    "> **Indirect effect** measures the change in $y$ after swapping out a single attention head associated with the gendered pronoun.\n",
    "\n",
    "For the above example, you can think of the indirect effect as how much more the model predicts \"was screaming\" for the original prompt after swapping out a **single** attention head.\n",
    "\n",
    "$$\\textbf{NIE}(\\texttt{set-gender}, \\texttt{null}; \\textbf{y}, u) = \\mathbb{E}\\left[\\frac{\\textbf{y}_{\\texttt{null}, z_{\\texttt{set-gender}(u)}}(u) }{\\textbf{y}_{\\texttt{null}}(u)} - 1\\right]$$\n"
   ]
  },
  {
   "cell_type": "markdown",
   "metadata": {
    "id": "SjcDWMjX11nJ"
   },
   "source": [
    "## Visualization\n"
   ]
  },
  {
   "cell_type": "markdown",
   "metadata": {
    "id": "dymYAd4RuKB_"
   },
   "source": [
    "### Indirect Effect\n"
   ]
  },
  {
   "cell_type": "code",
   "execution_count": null,
   "metadata": {
    "id": "BVoRtPMb11T_"
   },
   "outputs": [],
   "source": [
    "indirect = None\n",
    "# indirect should be the indirect effects of shape [num_layers, num_heads]"
   ]
  },
  {
   "cell_type": "code",
   "execution_count": null,
   "metadata": {
    "id": "yQR_bzjTCX_3"
   },
   "outputs": [],
   "source": [
    "direct = None\n",
    "# direct should be the indirect effects of shape [num_layers, num_heads]"
   ]
  },
  {
   "cell_type": "markdown",
   "metadata": {
    "id": "JyjBp5cj16le"
   },
   "source": [
    "Heatmap of Indirect Effects (Figure 5a)\n"
   ]
  },
  {
   "cell_type": "code",
   "execution_count": null,
   "metadata": {
    "id": "dNWJ3hrxYwS7"
   },
   "outputs": [],
   "source": [
    "from jaxtyping import Float, Int, Bool\n",
    "from typing import List, Union, Optional, Callable, Tuple, Dict\n",
    "\n",
    "update_layout_set = {\"xaxis_range\", \"yaxis_range\", \"hovermode\", \"xaxis_title\", \"yaxis_title\", \"colorbar\", \"colorscale\", \"coloraxis\", \"title_x\", \"bargap\", \"bargroupgap\", \"xaxis_tickformat\", \"yaxis_tickformat\", \"title_y\", \"legend_title_text\", \"xaxis_showgrid\", \"xaxis_gridwidth\", \"xaxis_gridcolor\", \"yaxis_showgrid\", \"yaxis_gridwidth\", \"yaxis_gridcolor\"}\n",
    "\n",
    "def imshow(tensor, renderer=None, **kwargs):\n",
    "    kwargs_post = {k: v for k, v in kwargs.items() if k in update_layout_set}\n",
    "    kwargs_pre = {k: v for k, v in kwargs.items() if k not in update_layout_set}\n",
    "    if \"facet_labels\" in kwargs_pre:\n",
    "        facet_labels = kwargs_pre.pop(\"facet_labels\")\n",
    "    else:\n",
    "        facet_labels = None\n",
    "    if \"color_continuous_scale\" not in kwargs_pre:\n",
    "        kwargs_pre[\"color_continuous_scale\"] = \"RdBu\"\n",
    "    fig = px.imshow(utils.to_numpy(tensor), color_continuous_midpoint=0.0, **kwargs_pre).update_layout(**kwargs_post)\n",
    "    if facet_labels:\n",
    "        for i, label in enumerate(facet_labels):\n",
    "            fig.layout.annotations[i]['text'] = label\n",
    "\n",
    "    fig.show(renderer)"
   ]
  },
  {
   "cell_type": "code",
   "execution_count": null,
   "metadata": {
    "id": "JMxMpW6L1_wj"
   },
   "outputs": [],
   "source": [
    "imshow(\n",
    "    indirect,\n",
    "    title=\"Indirect Effect With Attention Intervention\", labels={\"x\":\"Head\", \"y\":\"Layer\"}, zmax = 0.1, zmin = -0.1\n",
    ")"
   ]
  },
  {
   "cell_type": "code",
   "execution_count": null,
   "metadata": {
    "id": "KYIVj-RPEj_J"
   },
   "outputs": [],
   "source": [
    "result_bar = None\n",
    "# this should be the sum of indirect effects per layer of shape [num_layers, ]"
   ]
  },
  {
   "cell_type": "markdown",
   "metadata": {
    "id": "zDGZCAxCY-cc"
   },
   "source": [
    "Bar Chart of Layer Indirect Effects (Figure 5a)\n"
   ]
  },
  {
   "cell_type": "code",
   "execution_count": null,
   "metadata": {
    "id": "dEoi2HhKYz1Q"
   },
   "outputs": [],
   "source": [
    "def bar(tensor, renderer=None, **kwargs):\n",
    "    '''\n",
    "    Edit to this helper function, allowing it to take args in update_layout (e.g. yaxis_range).\n",
    "    '''\n",
    "    kwargs_post = {k: v for k, v in kwargs.items() if k in update_layout_set}\n",
    "    kwargs_pre = {k: v for k, v in kwargs.items() if k not in update_layout_set}\n",
    "    px.bar(y=utils.to_numpy(tensor), **kwargs_pre).update_layout(**kwargs_post).show(renderer)"
   ]
  },
  {
   "cell_type": "code",
   "execution_count": null,
   "metadata": {
    "id": "HEf__J3fEsLg"
   },
   "outputs": [],
   "source": [
    "bar(result_bar, labels={\"x\":\"Layer\", \"y\":\"Indirect Effect\"})"
   ]
  },
  {
   "cell_type": "markdown",
   "metadata": {
    "id": "L2OFJ_k8uPKm"
   },
   "source": [
    "### Direct Effect + Indirect Effect = Total Effect\n"
   ]
  },
  {
   "cell_type": "code",
   "execution_count": null,
   "metadata": {
    "id": "Wj_RttmP_As2"
   },
   "outputs": [],
   "source": [
    "random_selected_heads = None\n",
    "indirect_s = None\n",
    "direct_s = None\n"
   ]
  },
  {
   "cell_type": "markdown",
   "metadata": {
    "id": "EOS2FAyDZGYV"
   },
   "source": [
    "Bar Chart of Decomposible Effects (Figure 11)\n"
   ]
  },
  {
   "cell_type": "code",
   "execution_count": null,
   "metadata": {
    "id": "XsZb87CzF4L_"
   },
   "outputs": [],
   "source": [
    "from pandas import DataFrame as df\n",
    "import plotly.graph_objects as go\n",
    "\n",
    "def show_sum(head, indirect_s, direct_s, total):\n",
    "  pd_dict = df.from_dict({\"head\": [str(i) for i in head], \"indirect\": indirect_s, \"direct\": direct_s, \"total\": [total for i in range(len(direct_s))]})\n",
    "  fig = px.bar(pd_dict, x=\"head\", y=[\"indirect\", \"direct\"], color_discrete_sequence=['pink', 'skyblue'])\n",
    "  line = px.line(pd_dict, x=\"head\", y=[\"total\"])\n",
    "  line.update_traces(line=dict(dash='dash', color='orange'))\n",
    "  fig.add_trace(line.data[0])\n",
    "  fig.update_layout(\n",
    "    title='Decompose Effect',\n",
    "    xaxis_title='selected head',\n",
    "    yaxis_title='effect'  # Change this label to your desired name\n",
    ")\n",
    "  fig.show()"
   ]
  },
  {
   "cell_type": "code",
   "execution_count": null,
   "metadata": {
    "id": "QMbGFdadJ2VE"
   },
   "outputs": [],
   "source": [
    "show_sum(random_selected_heads, indirect_s, direct_s, total_effect)"
   ]
  },
  {
   "cell_type": "markdown",
   "metadata": {
    "id": "YWMQSsbQtGiX"
   },
   "source": [
    "## Top K selection\n"
   ]
  },
  {
   "cell_type": "code",
   "execution_count": null,
   "metadata": {
    "id": "dcd3AA0lpbrN"
   },
   "outputs": [],
   "source": [
    "mean_indirect_all_heads, result = None, None\n",
    "# mean_indirect_all_heads should be indirect effect for swapping all heads together averaged over examples\n",
    "# result is the list of topping top-n strongest indirect heads (first entry swaps strongest, second entry swaps two strongest, ...)"
   ]
  },
  {
   "cell_type": "markdown",
   "metadata": {
    "id": "5SfQJmaUZ1h7"
   },
   "source": [
    "Cumulative Sum of Top K Strongest Indirect Effects (Figure 5b)\n"
   ]
  },
  {
   "cell_type": "code",
   "execution_count": null,
   "metadata": {
    "id": "CFl_lbKCkmLH"
   },
   "outputs": [],
   "source": [
    "# Create a scatter plot\n",
    "def cumulative_indirect_effect_graph(mean_indirect_all_heads, result, topk = 10):\n",
    "  pd_dict = df.from_dict({\"head\": range(topk), \"indirect_effect\": result, \"total_indirect\": [mean_indirect_all_heads for i in range(len(result))]})\n",
    "  fig = px.line(pd_dict, x=\"head\", y = [\"indirect_effect\"], title=\"Head Selection in GPT2-small on Winobias\")\n",
    "  line = px.line(pd_dict, x=\"head\", y=[\"total_indirect\"])\n",
    "  line.update_traces(line=dict(dash='dash', color='orange'))\n",
    "  fig.add_trace(line.data[0])\n",
    "  fig.update_layout(\n",
    "    xaxis_title='number of head',\n",
    "    yaxis_title='mean indirect effect'  # Change this label to your desired name\n",
    ")\n",
    "  fig.show()"
   ]
  },
  {
   "cell_type": "code",
   "execution_count": null,
   "metadata": {
    "id": "agct9sdEszJ7"
   },
   "outputs": [],
   "source": [
    "cumulative_indirect_effect_graph(mean_indirect_all_heads, result, 15)"
   ]
  },
  {
   "cell_type": "markdown",
   "metadata": {
    "id": "l5y-mK2mzcRr"
   },
   "source": [
    "##See some final results\n"
   ]
  },
  {
   "cell_type": "markdown",
   "metadata": {
    "id": "PX2JWaWnbBAg"
   },
   "source": [
    "`result` should be a DataFrame with columns `{input, ratio_before_intervention_female, ratio_after_intervention_female, and ratio_before_intervention_male}` and rows representing each example\n",
    "\n",
    "The ratio is always going to be p(male_continution | u)/p(female_continuation | u) where u is the context + gender (this is described above as y)\n",
    "The ratio_after_intervention_female is this ratio after swapping the top k heads, where k is a reasonable number that captures most of the effects.\n",
    "This number should? be found from the previous graph.\n"
   ]
  },
  {
   "cell_type": "code",
   "execution_count": null,
   "metadata": {
    "id": "w4aDbdEKaMj7"
   },
   "outputs": [],
   "source": [
    "result = None\n",
    "# see above for a description of result"
   ]
  },
  {
   "cell_type": "code",
   "execution_count": null,
   "metadata": {
    "id": "RH1yRjeo21qr"
   },
   "outputs": [],
   "source": [
    "result"
   ]
  }
 ],
 "metadata": {
  "accelerator": "GPU",
  "colab": {
   "collapsed_sections": [
    "B3A0YuJ626Sd",
    "dDs7MDLy2-RM"
   ],
   "gpuType": "T4",
   "provenance": []
  },
  "kernelspec": {
   "display_name": "causal",
   "language": "python",
   "name": "python3"
  },
  "language_info": {
   "codemirror_mode": {
    "name": "ipython",
    "version": 3
   },
   "file_extension": ".py",
   "mimetype": "text/x-python",
   "name": "python",
   "nbconvert_exporter": "python",
   "pygments_lexer": "ipython3",
   "version": "3.13.5"
  }
 },
 "nbformat": 4,
 "nbformat_minor": 0
}
